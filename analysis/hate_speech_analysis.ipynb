{
 "cells": [
  {
   "cell_type": "code",
   "execution_count": 122,
   "id": "9844488f",
   "metadata": {},
   "outputs": [],
   "source": [
    "import pandas as pd\n",
    "import seaborn as sns\n",
    "import matplotlib.pyplot as plt\n",
    "import numpy as np"
   ]
  },
  {
   "cell_type": "code",
   "execution_count": 230,
   "id": "80d63151",
   "metadata": {},
   "outputs": [],
   "source": [
    "abusive_df = pd.read_csv('abusive.csv')\n",
    "kamus_df = pd.read_csv('new_kamusalay.csv', encoding='latin-1', header=None)"
   ]
  },
  {
   "cell_type": "code",
   "execution_count": 4,
   "id": "e4572557",
   "metadata": {},
   "outputs": [],
   "source": [
    "hate_speech = pd.read_csv('data.csv', encoding='latin-1')"
   ]
  },
  {
   "cell_type": "code",
   "execution_count": 127,
   "id": "13885c1c",
   "metadata": {},
   "outputs": [
    {
     "data": {
      "text/html": [
       "<div>\n",
       "<style scoped>\n",
       "    .dataframe tbody tr th:only-of-type {\n",
       "        vertical-align: middle;\n",
       "    }\n",
       "\n",
       "    .dataframe tbody tr th {\n",
       "        vertical-align: top;\n",
       "    }\n",
       "\n",
       "    .dataframe thead th {\n",
       "        text-align: right;\n",
       "    }\n",
       "</style>\n",
       "<table border=\"1\" class=\"dataframe\">\n",
       "  <thead>\n",
       "    <tr style=\"text-align: right;\">\n",
       "      <th></th>\n",
       "      <th>HS</th>\n",
       "      <th>Abusive</th>\n",
       "      <th>HS_Individual</th>\n",
       "      <th>HS_Group</th>\n",
       "      <th>HS_Religion</th>\n",
       "      <th>HS_Race</th>\n",
       "      <th>HS_Physical</th>\n",
       "      <th>HS_Gender</th>\n",
       "      <th>HS_Other</th>\n",
       "      <th>HS_Weak</th>\n",
       "      <th>HS_Moderate</th>\n",
       "      <th>HS_Strong</th>\n",
       "      <th>word_length</th>\n",
       "    </tr>\n",
       "  </thead>\n",
       "  <tbody>\n",
       "    <tr>\n",
       "      <th>count</th>\n",
       "      <td>13169.000000</td>\n",
       "      <td>13169.000000</td>\n",
       "      <td>13169.000000</td>\n",
       "      <td>13169.000000</td>\n",
       "      <td>13169.000000</td>\n",
       "      <td>13169.000000</td>\n",
       "      <td>13169.000000</td>\n",
       "      <td>13169.000000</td>\n",
       "      <td>13169.000000</td>\n",
       "      <td>13169.000000</td>\n",
       "      <td>13169.000000</td>\n",
       "      <td>13169.000000</td>\n",
       "      <td>13169.000000</td>\n",
       "    </tr>\n",
       "    <tr>\n",
       "      <th>mean</th>\n",
       "      <td>0.422280</td>\n",
       "      <td>0.382945</td>\n",
       "      <td>0.271471</td>\n",
       "      <td>0.150809</td>\n",
       "      <td>0.060217</td>\n",
       "      <td>0.042980</td>\n",
       "      <td>0.024527</td>\n",
       "      <td>0.023236</td>\n",
       "      <td>0.284000</td>\n",
       "      <td>0.256891</td>\n",
       "      <td>0.129471</td>\n",
       "      <td>0.035918</td>\n",
       "      <td>17.282102</td>\n",
       "    </tr>\n",
       "    <tr>\n",
       "      <th>std</th>\n",
       "      <td>0.493941</td>\n",
       "      <td>0.486123</td>\n",
       "      <td>0.444735</td>\n",
       "      <td>0.357876</td>\n",
       "      <td>0.237898</td>\n",
       "      <td>0.202819</td>\n",
       "      <td>0.154685</td>\n",
       "      <td>0.150659</td>\n",
       "      <td>0.450954</td>\n",
       "      <td>0.436935</td>\n",
       "      <td>0.335733</td>\n",
       "      <td>0.186092</td>\n",
       "      <td>10.231973</td>\n",
       "    </tr>\n",
       "    <tr>\n",
       "      <th>min</th>\n",
       "      <td>0.000000</td>\n",
       "      <td>0.000000</td>\n",
       "      <td>0.000000</td>\n",
       "      <td>0.000000</td>\n",
       "      <td>0.000000</td>\n",
       "      <td>0.000000</td>\n",
       "      <td>0.000000</td>\n",
       "      <td>0.000000</td>\n",
       "      <td>0.000000</td>\n",
       "      <td>0.000000</td>\n",
       "      <td>0.000000</td>\n",
       "      <td>0.000000</td>\n",
       "      <td>1.000000</td>\n",
       "    </tr>\n",
       "    <tr>\n",
       "      <th>25%</th>\n",
       "      <td>0.000000</td>\n",
       "      <td>0.000000</td>\n",
       "      <td>0.000000</td>\n",
       "      <td>0.000000</td>\n",
       "      <td>0.000000</td>\n",
       "      <td>0.000000</td>\n",
       "      <td>0.000000</td>\n",
       "      <td>0.000000</td>\n",
       "      <td>0.000000</td>\n",
       "      <td>0.000000</td>\n",
       "      <td>0.000000</td>\n",
       "      <td>0.000000</td>\n",
       "      <td>9.000000</td>\n",
       "    </tr>\n",
       "    <tr>\n",
       "      <th>50%</th>\n",
       "      <td>0.000000</td>\n",
       "      <td>0.000000</td>\n",
       "      <td>0.000000</td>\n",
       "      <td>0.000000</td>\n",
       "      <td>0.000000</td>\n",
       "      <td>0.000000</td>\n",
       "      <td>0.000000</td>\n",
       "      <td>0.000000</td>\n",
       "      <td>0.000000</td>\n",
       "      <td>0.000000</td>\n",
       "      <td>0.000000</td>\n",
       "      <td>0.000000</td>\n",
       "      <td>15.000000</td>\n",
       "    </tr>\n",
       "    <tr>\n",
       "      <th>75%</th>\n",
       "      <td>1.000000</td>\n",
       "      <td>1.000000</td>\n",
       "      <td>1.000000</td>\n",
       "      <td>0.000000</td>\n",
       "      <td>0.000000</td>\n",
       "      <td>0.000000</td>\n",
       "      <td>0.000000</td>\n",
       "      <td>0.000000</td>\n",
       "      <td>1.000000</td>\n",
       "      <td>1.000000</td>\n",
       "      <td>0.000000</td>\n",
       "      <td>0.000000</td>\n",
       "      <td>23.000000</td>\n",
       "    </tr>\n",
       "    <tr>\n",
       "      <th>max</th>\n",
       "      <td>1.000000</td>\n",
       "      <td>1.000000</td>\n",
       "      <td>1.000000</td>\n",
       "      <td>1.000000</td>\n",
       "      <td>1.000000</td>\n",
       "      <td>1.000000</td>\n",
       "      <td>1.000000</td>\n",
       "      <td>1.000000</td>\n",
       "      <td>1.000000</td>\n",
       "      <td>1.000000</td>\n",
       "      <td>1.000000</td>\n",
       "      <td>1.000000</td>\n",
       "      <td>52.000000</td>\n",
       "    </tr>\n",
       "  </tbody>\n",
       "</table>\n",
       "</div>"
      ],
      "text/plain": [
       "                 HS       Abusive  HS_Individual      HS_Group   HS_Religion  \\\n",
       "count  13169.000000  13169.000000   13169.000000  13169.000000  13169.000000   \n",
       "mean       0.422280      0.382945       0.271471      0.150809      0.060217   \n",
       "std        0.493941      0.486123       0.444735      0.357876      0.237898   \n",
       "min        0.000000      0.000000       0.000000      0.000000      0.000000   \n",
       "25%        0.000000      0.000000       0.000000      0.000000      0.000000   \n",
       "50%        0.000000      0.000000       0.000000      0.000000      0.000000   \n",
       "75%        1.000000      1.000000       1.000000      0.000000      0.000000   \n",
       "max        1.000000      1.000000       1.000000      1.000000      1.000000   \n",
       "\n",
       "            HS_Race   HS_Physical     HS_Gender      HS_Other       HS_Weak  \\\n",
       "count  13169.000000  13169.000000  13169.000000  13169.000000  13169.000000   \n",
       "mean       0.042980      0.024527      0.023236      0.284000      0.256891   \n",
       "std        0.202819      0.154685      0.150659      0.450954      0.436935   \n",
       "min        0.000000      0.000000      0.000000      0.000000      0.000000   \n",
       "25%        0.000000      0.000000      0.000000      0.000000      0.000000   \n",
       "50%        0.000000      0.000000      0.000000      0.000000      0.000000   \n",
       "75%        0.000000      0.000000      0.000000      1.000000      1.000000   \n",
       "max        1.000000      1.000000      1.000000      1.000000      1.000000   \n",
       "\n",
       "        HS_Moderate     HS_Strong   word_length  \n",
       "count  13169.000000  13169.000000  13169.000000  \n",
       "mean       0.129471      0.035918     17.282102  \n",
       "std        0.335733      0.186092     10.231973  \n",
       "min        0.000000      0.000000      1.000000  \n",
       "25%        0.000000      0.000000      9.000000  \n",
       "50%        0.000000      0.000000     15.000000  \n",
       "75%        0.000000      0.000000     23.000000  \n",
       "max        1.000000      1.000000     52.000000  "
      ]
     },
     "execution_count": 127,
     "metadata": {},
     "output_type": "execute_result"
    }
   ],
   "source": [
    "hate_speech.describe()"
   ]
  },
  {
   "cell_type": "code",
   "execution_count": 57,
   "id": "31d58be4",
   "metadata": {},
   "outputs": [
    {
     "data": {
      "text/plain": [
       "2"
      ]
     },
     "execution_count": 57,
     "metadata": {},
     "output_type": "execute_result"
    }
   ],
   "source": [
    "word = 'Hello world'\n",
    "len(word.split())"
   ]
  },
  {
   "cell_type": "code",
   "execution_count": 40,
   "id": "a4964dec",
   "metadata": {},
   "outputs": [
    {
     "data": {
      "text/plain": [
       "\"- disaat semua cowok berusaha melacak perhatian gue. loe lantas remehkan perhatian yg gue kasih khusus ke elo. basic elo cowok bego ! ! !'\""
      ]
     },
     "execution_count": 40,
     "metadata": {},
     "output_type": "execute_result"
    }
   ],
   "source": [
    "hate_speech['Tweet'].loc[0]"
   ]
  },
  {
   "cell_type": "markdown",
   "id": "44eb39c9",
   "metadata": {},
   "source": [
    "## WORD LENGTH"
   ]
  },
  {
   "cell_type": "code",
   "execution_count": 139,
   "id": "ff09d5d9",
   "metadata": {
    "scrolled": true
   },
   "outputs": [
    {
     "name": "stdout",
     "output_type": "stream",
     "text": [
      "17.282101905991343\n"
     ]
    }
   ],
   "source": [
    "hate_speech['word_length'] = hate_speech['Tweet'].apply(lambda char: len(char.split()))\n",
    "average_word_length = hate_speech['Tweet'].apply(lambda char: len(char.split())).mean()\n",
    "print(average_word_length)"
   ]
  },
  {
   "cell_type": "code",
   "execution_count": 228,
   "id": "c5cfea31",
   "metadata": {},
   "outputs": [
    {
     "data": {
      "text/plain": [
       "10.231972972784822"
      ]
     },
     "execution_count": 228,
     "metadata": {},
     "output_type": "execute_result"
    }
   ],
   "source": [
    "hate_speech_std = hate_speech['word_length'].std()\n",
    "hate_speech_std"
   ]
  },
  {
   "cell_type": "code",
   "execution_count": 229,
   "id": "2957a562",
   "metadata": {},
   "outputs": [
    {
     "data": {
      "text/plain": [
       "104.69327091579908"
      ]
     },
     "execution_count": 229,
     "metadata": {},
     "output_type": "execute_result"
    }
   ],
   "source": [
    "hate_speech_var = hate_speech['word_length'].var()\n",
    "hate_speech_var"
   ]
  },
  {
   "cell_type": "code",
   "execution_count": 90,
   "id": "717bc3c6",
   "metadata": {},
   "outputs": [
    {
     "name": "stdout",
     "output_type": "stream",
     "text": [
      "15.587245349867139\n"
     ]
    }
   ],
   "source": [
    "from scipy.stats import trim_mean\n",
    "\n",
    "trim_word_length = trim_mean(hate_speech['word_length'], proportiontocut=0.2)\n",
    "print(trim_word_length)\n",
    "\n",
    "# we can see average word length equals to 17, but we know that the plot is right-skewed\n",
    "# which means the mean most likely be affected by outliers. So mean doesn't really represent the typical word length\n",
    "# to tackle this we use trimmed mean instead\n",
    "# using trimmed mean, we have 15 words to represent typical comment"
   ]
  },
  {
   "cell_type": "code",
   "execution_count": 237,
   "id": "4d1382dc",
   "metadata": {},
   "outputs": [
    {
     "data": {
      "image/png": "[encoded data removed]",
      "text/plain": [
       "<Figure size 1200x800 with 1 Axes>"
      ]
     },
     "metadata": {},
     "output_type": "display_data"
    },
    {
     "data": {
      "text/plain": [
       "<Figure size 640x480 with 0 Axes>"
      ]
     },
     "metadata": {},
     "output_type": "display_data"
    }
   ],
   "source": [
    "plt.figure(figsize=(12, 8))\n",
    "sns.histplot(x='word_length', data=hate_speech)\n",
    "plt.show()\n",
    "plt.clf()"
   ]
  },
  {
   "cell_type": "code",
   "execution_count": 227,
   "id": "17b1a2b6",
   "metadata": {},
   "outputs": [
    {
     "data": {
      "text/plain": [
       "3575"
      ]
     },
     "execution_count": 227,
     "metadata": {},
     "output_type": "execute_result"
    }
   ],
   "source": [
    "indi = hate_speech['HS_Individual'][hate_speech.HS_Individual == 1]\n",
    "indi.sum()"
   ]
  },
  {
   "cell_type": "code",
   "execution_count": 226,
   "id": "0fe72729",
   "metadata": {},
   "outputs": [
    {
     "data": {
      "text/plain": [
       "1986"
      ]
     },
     "execution_count": 226,
     "metadata": {},
     "output_type": "execute_result"
    }
   ],
   "source": [
    "group = hate_speech['HS_Group'][hate_speech.HS_Group == 1]\n",
    "group.sum()"
   ]
  },
  {
   "cell_type": "markdown",
   "id": "5f284451",
   "metadata": {},
   "source": [
    "## WORD LENGTH FOR HATE SPEECH TARGETED TO INDIVIDUAL & GROUP"
   ]
  },
  {
   "cell_type": "code",
   "execution_count": 215,
   "id": "44da8338",
   "metadata": {},
   "outputs": [
    {
     "data": {
      "text/plain": [
       "54612"
      ]
     },
     "execution_count": 215,
     "metadata": {},
     "output_type": "execute_result"
    }
   ],
   "source": [
    "individual_hs_word_length = hate_speech['word_length'][hate_speech.HS_Individual == 1]\n",
    "individual_hs_word_length.sum()"
   ]
  },
  {
   "cell_type": "code",
   "execution_count": 216,
   "id": "a11a05da",
   "metadata": {},
   "outputs": [
    {
     "data": {
      "text/plain": [
       "32889"
      ]
     },
     "execution_count": 216,
     "metadata": {},
     "output_type": "execute_result"
    }
   ],
   "source": [
    "group_hs_word_length = hate_speech['word_length'][hate_speech.HS_Group == 1]\n",
    "group_hs_word_length.sum()"
   ]
  },
  {
   "cell_type": "code",
   "execution_count": 238,
   "id": "bdf7c8a0",
   "metadata": {},
   "outputs": [
    {
     "data": {
      "image/png": "[encoded data removed]",
      "text/plain": [
       "<Figure size 1200x800 with 1 Axes>"
      ]
     },
     "metadata": {},
     "output_type": "display_data"
    },
    {
     "data": {
      "text/plain": [
       "<Figure size 640x480 with 0 Axes>"
      ]
     },
     "metadata": {},
     "output_type": "display_data"
    }
   ],
   "source": [
    "plt.figure(figsize=(12, 8))\n",
    "plt.hist(individual_hs_word_length, color='blue', label='individual', alpha=0.4)\n",
    "plt.hist(group_hs_word_length, color='red', label='group', alpha=0.4)\n",
    "plt.legend()\n",
    "plt.show()\n",
    "plt.clf()"
   ]
  },
  {
   "cell_type": "markdown",
   "id": "49c7d748",
   "metadata": {},
   "source": [
    "## HATE SPEECH POWER & ITS WORD LENGTH"
   ]
  },
  {
   "cell_type": "code",
   "execution_count": 190,
   "id": "9af1005f",
   "metadata": {},
   "outputs": [
    {
     "data": {
      "text/plain": [
       "52049"
      ]
     },
     "execution_count": 190,
     "metadata": {},
     "output_type": "execute_result"
    }
   ],
   "source": [
    "weak_hs_word_length = hate_speech['word_length'][hate_speech.HS_Weak == 1]\n",
    "weak_hs_word_length.sum()"
   ]
  },
  {
   "cell_type": "code",
   "execution_count": 189,
   "id": "cd3e1eab",
   "metadata": {},
   "outputs": [
    {
     "data": {
      "text/plain": [
       "29150"
      ]
     },
     "execution_count": 189,
     "metadata": {},
     "output_type": "execute_result"
    }
   ],
   "source": [
    "moderate_hs_word_length= hate_speech['word_length'][hate_speech.HS_Moderate == 1]\n",
    "moderate_hs_word_length.sum()"
   ]
  },
  {
   "cell_type": "code",
   "execution_count": 188,
   "id": "5308bc33",
   "metadata": {},
   "outputs": [
    {
     "data": {
      "text/plain": [
       "6302"
      ]
     },
     "execution_count": 188,
     "metadata": {},
     "output_type": "execute_result"
    }
   ],
   "source": [
    "strong_hs_word_length = hate_speech['word_length'][hate_speech.HS_Strong == 1]\n",
    "strong_hs_word_length.sum()"
   ]
  },
  {
   "cell_type": "code",
   "execution_count": 239,
   "id": "f74e92f3",
   "metadata": {},
   "outputs": [
    {
     "data": {
      "image/png": "[encoded data removed]",
      "text/plain": [
       "<Figure size 1200x800 with 1 Axes>"
      ]
     },
     "metadata": {},
     "output_type": "display_data"
    },
    {
     "data": {
      "text/plain": [
       "<Figure size 640x480 with 0 Axes>"
      ]
     },
     "metadata": {},
     "output_type": "display_data"
    }
   ],
   "source": [
    "plt.figure(figsize=(12, 8))\n",
    "plt.hist(weak_hs_word_length, color='green', label='weak', alpha=0.3)\n",
    "plt.hist(moderate_hs_word_length, color='blue', label='moderate', alpha=0.3)\n",
    "plt.hist(strong_hs_word_length, color='red', label='strong', alpha=0.3)\n",
    "plt.legend()\n",
    "plt.show()\n",
    "plt.clf()"
   ]
  },
  {
   "cell_type": "code",
   "execution_count": 144,
   "id": "88adc4d7",
   "metadata": {},
   "outputs": [],
   "source": [
    "# sns.boxplot(data=hate_speech, x=['HS_Weak', 'HS_Moderate', 'HS_Strong'], y='word_length')\n",
    "# plt.show()"
   ]
  },
  {
   "cell_type": "markdown",
   "id": "0dcf7009",
   "metadata": {},
   "source": [
    "## CATEGORY THAT HAS THE MOST RECORDS"
   ]
  },
  {
   "cell_type": "code",
   "execution_count": 140,
   "id": "91066e6e",
   "metadata": {},
   "outputs": [
    {
     "data": {
      "text/plain": [
       "array([0.13844274, 0.09881285, 0.05638966, 0.05342179, 0.65293296])"
      ]
     },
     "execution_count": 140,
     "metadata": {},
     "output_type": "execute_result"
    }
   ],
   "source": [
    "hs_religion = hate_speech.HS_Religion.sum()\n",
    "hs_race = hate_speech.HS_Race.sum()\n",
    "hs_physical = hate_speech.HS_Physical.sum()\n",
    "hs_gender = hate_speech.HS_Gender.sum()\n",
    "hs_other = hate_speech.HS_Other.sum()\n",
    "category_label = ['religion', 'race', 'pyhsical', 'gender', 'other']\n",
    "\n",
    "hate_speech_category = [hs_religion, hs_race, hs_physical, hs_gender, hs_other]\n",
    "hate_speech_total = np.array(hate_speech_category).sum()\n",
    "np.array(hate_speech_category / hate_speech_total) "
   ]
  },
  {
   "cell_type": "code",
   "execution_count": 240,
   "id": "82ac9f78",
   "metadata": {},
   "outputs": [
    {
     "data": {
      "image/png": "[encoded data removed]",
      "text/plain": [
       "<Figure size 1200x800 with 1 Axes>"
      ]
     },
     "metadata": {},
     "output_type": "display_data"
    },
    {
     "data": {
      "text/plain": [
       "<Figure size 640x480 with 0 Axes>"
      ]
     },
     "metadata": {},
     "output_type": "display_data"
    }
   ],
   "source": [
    "plt.figure(figsize=(12, 8))\n",
    "plt.pie(hate_speech_category, labels=category_label, autopct='%0.1f%%')\n",
    "plt.axis('equal')\n",
    "plt.show()\n",
    "plt.clf()"
   ]
  },
  {
   "cell_type": "code",
   "execution_count": 34,
   "id": "ca29e8cb",
   "metadata": {
    "scrolled": true
   },
   "outputs": [],
   "source": [
    "strong_HS = hate_speech.HS_Strong.sum()\n",
    "moderate_HS = hate_speech.HS_Moderate.sum()\n",
    "weak_HS = hate_speech.HS_Weak.sum()"
   ]
  },
  {
   "cell_type": "code",
   "execution_count": 16,
   "id": "b03f9192",
   "metadata": {
    "scrolled": false
   },
   "outputs": [
    {
     "data": {
      "text/plain": [
       "Tweet            Lengserkan Jokowi Bangsat!!RT USER: china babi...\n",
       "HS                                                             473\n",
       "Abusive                                                         65\n",
       "HS_Individual                                                  192\n",
       "HS_Group                                                       281\n",
       "HS_Religion                                                     77\n",
       "HS_Race                                                        141\n",
       "HS_Physical                                                      2\n",
       "HS_Gender                                                        4\n",
       "HS_Other                                                       272\n",
       "HS_Weak                                                          0\n",
       "HS_Moderate                                                      0\n",
       "HS_Strong                                                      473\n",
       "dtype: object"
      ]
     },
     "execution_count": 16,
     "metadata": {},
     "output_type": "execute_result"
    }
   ],
   "source": [
    "hate_speech[hate_speech.HS_Strong == 1].sum()"
   ]
  }
 ],
 "metadata": {
  "kernelspec": {
   "display_name": "Python 3 (ipykernel)",
   "language": "python",
   "name": "python3"
  },
  "language_info": {
   "codemirror_mode": {
    "name": "ipython",
    "version": 3
   },
   "file_extension": ".py",
   "mimetype": "text/x-python",
   "name": "python",
   "nbconvert_exporter": "python",
   "pygments_lexer": "ipython3",
   "version": "3.11.2"
  }
 },
 "nbformat": 4,
 "nbformat_minor": 5
}
